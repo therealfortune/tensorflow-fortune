{
  "nbformat": 4,
  "nbformat_minor": 0,
  "metadata": {
    "colab": {
      "name": "Sign classifier.ipynb",
      "provenance": [],
      "collapsed_sections": [],
      "authorship_tag": "ABX9TyOSmbVl7Bus2/V5wcONToGv",
      "include_colab_link": true
    },
    "kernelspec": {
      "name": "python3",
      "display_name": "Python 3"
    },
    "language_info": {
      "name": "python"
    },
    "accelerator": "GPU"
  },
  "cells": [
    {
      "cell_type": "markdown",
      "metadata": {
        "id": "view-in-github",
        "colab_type": "text"
      },
      "source": [
        "<a href=\"https://colab.research.google.com/github/therealfortune/tensorflow-fortune/blob/master/Sign_classifier.ipynb\" target=\"_parent\"><img src=\"https://colab.research.google.com/assets/colab-badge.svg\" alt=\"Open In Colab\"/></a>"
      ]
    },
    {
      "cell_type": "code",
      "execution_count": 1,
      "metadata": {
        "id": "ZX6-NrOqjguy"
      },
      "outputs": [],
      "source": [
        "import csv\n",
        "import tensorflow as tf\n",
        "import numpy as np\n",
        "from tensorflow.keras.preprocessing.image import ImageDataGenerator\n",
        "from google.colab import files"
      ]
    },
    {
      "cell_type": "code",
      "source": [
        "# sign_mnist_train.csv\n",
        "!gdown --id 1z0DkA9BytlLxO1C0BAWzknLyQmZAp0HR\n",
        "# sign_mnist_test.csv\n",
        "!gdown --id 1z1BIj4qmri59GWBG4ivMNFtpZ4AXIbzg"
      ],
      "metadata": {
        "colab": {
          "base_uri": "https://localhost:8080/"
        },
        "id": "eWWj9ktBj4MA",
        "outputId": "efe41d8c-3730-4d99-b045-8503217b0d34"
      },
      "execution_count": 2,
      "outputs": [
        {
          "output_type": "stream",
          "name": "stdout",
          "text": [
            "Downloading...\n",
            "From: https://drive.google.com/uc?id=1z0DkA9BytlLxO1C0BAWzknLyQmZAp0HR\n",
            "To: /content/sign_mnist_train.csv\n",
            "100% 83.3M/83.3M [00:00<00:00, 101MB/s] \n",
            "Downloading...\n",
            "From: https://drive.google.com/uc?id=1z1BIj4qmri59GWBG4ivMNFtpZ4AXIbzg\n",
            "To: /content/sign_mnist_test.csv\n",
            "100% 21.8M/21.8M [00:00<00:00, 82.5MB/s]\n"
          ]
        }
      ]
    },
    {
      "cell_type": "code",
      "source": [
        "def get_data(fname):\n",
        "  with open(fname) as training_file:\n",
        "    reader = csv.reader(training_file, delimiter=',')\n",
        "    first_line = True\n",
        "    imgs = []\n",
        "    labels = []\n",
        "\n",
        "    for row in reader:\n",
        "      if first_line:\n",
        "        first_line = False\n",
        "      else:\n",
        "        labels.append(row[0])\n",
        "        img = row[1:]\n",
        "        img_data_to_array = np.array_split(img, 28)\n",
        "        imgs.append(img_data_to_array)\n",
        "\n",
        "    images = np.array(imgs).astype('float')\n",
        "    labels = np.array(labels).astype('float')\n",
        "\n",
        "    return images, labels\n",
        "\n",
        "training_images, training_labels = get_data('/content/sign_mnist_train.csv')\n",
        "testing_images, testing_labels = get_data('/content/sign_mnist_test.csv')\n",
        "\n",
        "print(training_images.shape)\n",
        "print(training_labels.shape)\n",
        "print(testing_images.shape)\n",
        "print(testing_labels.shape)"
      ],
      "metadata": {
        "id": "AlBxsetTkFFC",
        "colab": {
          "base_uri": "https://localhost:8080/"
        },
        "outputId": "e35b24e1-51bc-45f7-f610-9a3eb0e4bf4d"
      },
      "execution_count": 3,
      "outputs": [
        {
          "output_type": "stream",
          "name": "stdout",
          "text": [
            "(27455, 28, 28)\n",
            "(27455,)\n",
            "(7172, 28, 28)\n",
            "(7172,)\n"
          ]
        }
      ]
    },
    {
      "cell_type": "code",
      "source": [
        "training_images = np.expand_dims(training_images, axis=3)\n",
        "testing_images = np.expand_dims(testing_images, axis=3)\n",
        "\n",
        "print(training_images.shape)\n",
        "print(testing_images.shape)"
      ],
      "metadata": {
        "colab": {
          "base_uri": "https://localhost:8080/"
        },
        "id": "qBuKvz1Rpr6l",
        "outputId": "2d12338e-8448-40e0-b603-a4b0d86e8148"
      },
      "execution_count": 4,
      "outputs": [
        {
          "output_type": "stream",
          "name": "stdout",
          "text": [
            "(27455, 28, 28, 1)\n",
            "(7172, 28, 28, 1)\n"
          ]
        }
      ]
    },
    {
      "cell_type": "code",
      "source": [
        "train_datagen = ImageDataGenerator(\n",
        "    rotation_range=40,\n",
        "    width_shift_range=0.2,\n",
        "    height_shift_range=0.2,\n",
        "    shear_range=0.2,\n",
        "    zoom_range = 0.2,\n",
        "    fill_mode='nearest',\n",
        "    horizontal_flip=True,\n",
        "    rescale = 1./255\n",
        ")\n",
        "\n",
        "validation_datagen = ImageDataGenerator(\n",
        "    rescale = 1./255\n",
        ")\n",
        "\n",
        "train_generator = train_datagen.flow(\n",
        "    training_images,\n",
        "    training_labels,\n",
        "    batch_size=10\n",
        ")\n",
        "\n",
        "validation_generator = validation_datagen.flow(\n",
        "    testing_images,\n",
        "    testing_labels,\n",
        "    batch_size=10\n",
        ")"
      ],
      "metadata": {
        "id": "IQSxVqnQrAuk"
      },
      "execution_count": 5,
      "outputs": []
    },
    {
      "cell_type": "code",
      "source": [
        "from tensorflow.python.ops.math_ops import to_bfloat16\n",
        "model = tf.keras.models.Sequential([\n",
        "  tf.keras.layers.Conv2D(64, (3,3), activation=\"relu\", input_shape=(28,28,1)),\n",
        "  tf.keras.layers.MaxPooling2D(2,2),\n",
        "  tf.keras.layers.Conv2D(62, (3,3), activation=\"relu\"),\n",
        "  tf.keras.layers.MaxPooling2D(2,2),\n",
        "  tf.keras.layers.Flatten(),\n",
        "  tf.keras.layers.Dense(512, activation=\"relu\"),\n",
        "  tf.keras.layers.Dense(26, activation=\"softmax\")\n",
        "])\n",
        "\n",
        "model.summary()"
      ],
      "metadata": {
        "colab": {
          "base_uri": "https://localhost:8080/"
        },
        "id": "nmdjaDvuttxD",
        "outputId": "0e114df9-0329-4cda-a5c0-63cdf759b6c3"
      },
      "execution_count": 6,
      "outputs": [
        {
          "output_type": "stream",
          "name": "stdout",
          "text": [
            "Model: \"sequential\"\n",
            "_________________________________________________________________\n",
            " Layer (type)                Output Shape              Param #   \n",
            "=================================================================\n",
            " conv2d (Conv2D)             (None, 26, 26, 64)        640       \n",
            "                                                                 \n",
            " max_pooling2d (MaxPooling2D  (None, 13, 13, 64)       0         \n",
            " )                                                               \n",
            "                                                                 \n",
            " conv2d_1 (Conv2D)           (None, 11, 11, 62)        35774     \n",
            "                                                                 \n",
            " max_pooling2d_1 (MaxPooling  (None, 5, 5, 62)         0         \n",
            " 2D)                                                             \n",
            "                                                                 \n",
            " flatten (Flatten)           (None, 1550)              0         \n",
            "                                                                 \n",
            " dense (Dense)               (None, 512)               794112    \n",
            "                                                                 \n",
            " dense_1 (Dense)             (None, 26)                13338     \n",
            "                                                                 \n",
            "=================================================================\n",
            "Total params: 843,864\n",
            "Trainable params: 843,864\n",
            "Non-trainable params: 0\n",
            "_________________________________________________________________\n"
          ]
        }
      ]
    },
    {
      "cell_type": "code",
      "source": [
        "model.compile(\n",
        "    optimizer = \"adam\",\n",
        "    loss = 'sparse_categorical_crossentropy',\n",
        "    metrics = ['acc']\n",
        ")"
      ],
      "metadata": {
        "id": "QDWp31vEvU-q"
      },
      "execution_count": 7,
      "outputs": []
    },
    {
      "cell_type": "code",
      "source": [
        "history = model.fit_generator(\n",
        "    train_generator,\n",
        "    epochs = 15,\n",
        "    validation_data = validation_generator,\n",
        "    verbose=1\n",
        ")\n",
        "\n",
        "model.evaluate(testing_images, testing_labels)"
      ],
      "metadata": {
        "colab": {
          "base_uri": "https://localhost:8080/"
        },
        "id": "lRY-8ZPou5TN",
        "outputId": "f1d812a9-b9b8-44b3-896f-67268a4de2b8"
      },
      "execution_count": 8,
      "outputs": [
        {
          "output_type": "stream",
          "name": "stdout",
          "text": [
            "Epoch 1/15\n"
          ]
        },
        {
          "output_type": "stream",
          "name": "stderr",
          "text": [
            "/usr/local/lib/python3.7/dist-packages/ipykernel_launcher.py:5: UserWarning: `Model.fit_generator` is deprecated and will be removed in a future version. Please use `Model.fit`, which supports generators.\n",
            "  \"\"\"\n"
          ]
        },
        {
          "output_type": "stream",
          "name": "stdout",
          "text": [
            "2746/2746 [==============================] - 41s 10ms/step - loss: 2.5891 - acc: 0.2023 - val_loss: 1.4591 - val_acc: 0.5056\n",
            "Epoch 2/15\n",
            "2746/2746 [==============================] - 28s 10ms/step - loss: 1.6923 - acc: 0.4482 - val_loss: 0.8811 - val_acc: 0.7133\n",
            "Epoch 3/15\n",
            "2746/2746 [==============================] - 28s 10ms/step - loss: 1.3128 - acc: 0.5652 - val_loss: 0.6731 - val_acc: 0.7648\n",
            "Epoch 4/15\n",
            "2746/2746 [==============================] - 28s 10ms/step - loss: 1.1015 - acc: 0.6344 - val_loss: 0.5572 - val_acc: 0.8035\n",
            "Epoch 5/15\n",
            "2746/2746 [==============================] - 28s 10ms/step - loss: 0.9440 - acc: 0.6876 - val_loss: 0.4908 - val_acc: 0.8371\n",
            "Epoch 6/15\n",
            "2746/2746 [==============================] - 28s 10ms/step - loss: 0.8449 - acc: 0.7206 - val_loss: 0.4177 - val_acc: 0.8516\n",
            "Epoch 7/15\n",
            "2746/2746 [==============================] - 28s 10ms/step - loss: 0.7822 - acc: 0.7392 - val_loss: 0.4310 - val_acc: 0.8390\n",
            "Epoch 8/15\n",
            "2746/2746 [==============================] - 28s 10ms/step - loss: 0.7056 - acc: 0.7662 - val_loss: 0.3580 - val_acc: 0.8684\n",
            "Epoch 9/15\n",
            "2746/2746 [==============================] - 28s 10ms/step - loss: 0.6693 - acc: 0.7785 - val_loss: 0.3152 - val_acc: 0.8882\n",
            "Epoch 10/15\n",
            "2746/2746 [==============================] - 28s 10ms/step - loss: 0.6270 - acc: 0.7898 - val_loss: 0.4192 - val_acc: 0.8451\n",
            "Epoch 11/15\n",
            "2746/2746 [==============================] - 28s 10ms/step - loss: 0.5994 - acc: 0.8012 - val_loss: 0.2800 - val_acc: 0.8949\n",
            "Epoch 12/15\n",
            "2746/2746 [==============================] - 28s 10ms/step - loss: 0.5750 - acc: 0.8095 - val_loss: 0.2792 - val_acc: 0.9142\n",
            "Epoch 13/15\n",
            "2746/2746 [==============================] - 28s 10ms/step - loss: 0.5537 - acc: 0.8166 - val_loss: 0.2937 - val_acc: 0.9077\n",
            "Epoch 14/15\n",
            "2746/2746 [==============================] - 28s 10ms/step - loss: 0.5257 - acc: 0.8267 - val_loss: 0.2527 - val_acc: 0.9149\n",
            "Epoch 15/15\n",
            "2746/2746 [==============================] - 28s 10ms/step - loss: 0.5057 - acc: 0.8326 - val_loss: 0.3170 - val_acc: 0.8991\n",
            "225/225 [==============================] - 1s 5ms/step - loss: 287.7239 - acc: 0.6152\n"
          ]
        },
        {
          "output_type": "execute_result",
          "data": {
            "text/plain": [
              "[287.723876953125, 0.6151701211929321]"
            ]
          },
          "metadata": {},
          "execution_count": 8
        }
      ]
    },
    {
      "cell_type": "code",
      "source": [
        "%matplotlib inline\n",
        "import matplotlib.pyplot as plt\n",
        "\n",
        "acc = history.history['acc']\n",
        "val_acc = history.history['val_acc']\n",
        "loss = history.history['loss']\n",
        "val_loss = history.history['val_loss']\n",
        "\n",
        "epochs = range(len(acc))\n",
        "\n",
        "plt.plot(epochs, acc, 'r', label = 'training accuracy')\n",
        "plt.plot(epochs, val_acc, 'b', label = 'validation accuracy')\n",
        "plt.title('Training and Validation accuracy')\n",
        "plt.legend()\n",
        "plt.figure()\n",
        "\n",
        "plt.plot(epochs, loss, 'r', label= 'training loss')\n",
        "plt.plot(epochs, val_loss, 'b', label='validation_loss')\n",
        "plt.title('Training and Validation loss')\n",
        "plt.legend()\n",
        "plt.figure()"
      ],
      "metadata": {
        "colab": {
          "base_uri": "https://localhost:8080/",
          "height": 580
        },
        "id": "i_wQvxOKvSxM",
        "outputId": "1a1e0df3-948c-4424-9a8f-306797a8bd6c"
      },
      "execution_count": 11,
      "outputs": [
        {
          "output_type": "execute_result",
          "data": {
            "text/plain": [
              "<Figure size 432x288 with 0 Axes>"
            ]
          },
          "metadata": {},
          "execution_count": 11
        },
        {
          "output_type": "display_data",
          "data": {
            "image/png": "[encoded data removed]",
            "text/plain": [
              "<Figure size 432x288 with 1 Axes>"
            ]
          },
          "metadata": {
            "needs_background": "light"
          }
        },
        {
          "output_type": "display_data",
          "data": {
            "image/png": "[encoded data removed]",
            "text/plain": [
              "<Figure size 432x288 with 1 Axes>"
            ]
          },
          "metadata": {
            "needs_background": "light"
          }
        },
        {
          "output_type": "display_data",
          "data": {
            "text/plain": [
              "<Figure size 432x288 with 0 Axes>"
            ]
          },
          "metadata": {}
        }
      ]
    }
  ]
}