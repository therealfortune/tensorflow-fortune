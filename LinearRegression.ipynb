{
  "cells": [
    {
      "cell_type": "markdown",
      "metadata": {
        "id": "view-in-github",
        "colab_type": "text"
      },
      "source": [
        "<a href=\"https://colab.research.google.com/github/therealfortune/tensorflow-fortune/blob/master/LinearRegression.ipynb\" target=\"_parent\"><img src=\"https://colab.research.google.com/assets/colab-badge.svg\" alt=\"Open In Colab\"/></a>"
      ]
    },
    {
      "cell_type": "code",
      "execution_count": 1,
      "metadata": {
        "id": "Xui0aUcy5Uma"
      },
      "outputs": [],
      "source": [
        "from __future__ import absolute_import, division, print_function\n",
        "\n",
        "import tensorflow as tf\n",
        "\n",
        "import numpy as np\n",
        "\n",
        "rng = np.random"
      ]
    },
    {
      "cell_type": "code",
      "execution_count": 2,
      "metadata": {
        "id": "DJ6DLreY5Ume"
      },
      "outputs": [],
      "source": [
        "X= np.array([3.3,4.4,5.5,6.71,6.93,4.168,9.779,6.182,7.59,2.167,\n",
        "\n",
        "              7.042,10.791,5.313,7.997,5.654, 9.27,3.1])\n",
        "\n",
        "Y=np.array([1.7,2.76,2.09,3.19,1.694,1.573,3.366,2.596,2.53,1.221, 2.827,3.465,1.65,2.904,2.42,2.94,1.3])\n",
        "\n",
        "n_samples = X.shape[0]"
      ]
    },
    {
      "cell_type": "code",
      "execution_count": 3,
      "metadata": {
        "id": "5Qe7o-zt5Umf"
      },
      "outputs": [],
      "source": [
        "learning_rate = 0.01\n",
        "\n",
        "epochs = 1000\n",
        "\n",
        "display_step = 50"
      ]
    },
    {
      "cell_type": "code",
      "execution_count": 4,
      "metadata": {
        "id": "ITe-y3Ru5Umg"
      },
      "outputs": [],
      "source": [
        "# Weight and Bias initialized randomly.\n",
        "\n",
        "W = tf.Variable(rng.randn(), name=\"weight\")\n",
        "\n",
        "b = tf.Variable(rng.randn(), name=\"bias\")"
      ]
    },
    {
      "cell_type": "code",
      "execution_count": 5,
      "metadata": {
        "id": "kcPKkFY65Umg"
      },
      "outputs": [],
      "source": [
        "# Linear regression (Wx + b).\n",
        "\n",
        "def linear_regression(x):\n",
        "\n",
        "    return W * x + b\n",
        "\n",
        "# Mean square error.\n",
        "\n",
        "def mean_square(y_pred, y_true):\n",
        "\n",
        "    return tf.reduce_sum(tf.pow(y_pred-y_true, 2)) / (2 * n_samples)"
      ]
    },
    {
      "cell_type": "code",
      "execution_count": 6,
      "metadata": {
        "id": "yOYYkS1D5Umh"
      },
      "outputs": [],
      "source": [
        "# Stochastic Gradient Descent Optimizer\n",
        "\n",
        "optimizer = tf.optimizers.SGD(learning_rate)\n",
        "\n",
        "# Optimization process. \n",
        "\n",
        "def run_optimization():\n",
        "\n",
        "  # Wrap computation inside a GradientTape for automatic differentiation.\n",
        "\n",
        "    with tf.GradientTape() as g:\n",
        "\n",
        "        pred = linear_regression(X)\n",
        "\n",
        "        loss = mean_square(pred, Y)\n",
        "\n",
        "    # Compute gradients.\n",
        "\n",
        "    gradients = g.gradient(loss, [W, b])\n",
        "    # Update W and b following gradients.\n",
        "\n",
        "    optimizer.apply_gradients(zip(gradients, [W, b]))"
      ]
    },
    {
      "cell_type": "code",
      "execution_count": 7,
      "metadata": {
        "colab": {
          "base_uri": "https://localhost:8080/"
        },
        "id": "bQuKxDUV5Umh",
        "outputId": "066556b1-2d22-4de9-dd09-40790e3364d6"
      },
      "outputs": [
        {
          "output_type": "stream",
          "name": "stdout",
          "text": [
            "step: 50, loss: 0.102312, W: 0.341961, b: 0.158431\n",
            "step: 100, loss: 0.099409, W: 0.336639, b: 0.196163\n",
            "step: 150, loss: 0.096838, W: 0.331630, b: 0.231671\n",
            "step: 200, loss: 0.094561, W: 0.326917, b: 0.265087\n",
            "step: 250, loss: 0.092544, W: 0.322481, b: 0.296534\n",
            "step: 300, loss: 0.090758, W: 0.318307, b: 0.326128\n",
            "step: 350, loss: 0.089177, W: 0.314378, b: 0.353978\n",
            "step: 400, loss: 0.087776, W: 0.310681, b: 0.380188\n",
            "step: 450, loss: 0.086535, W: 0.307202, b: 0.404853\n",
            "step: 500, loss: 0.085437, W: 0.303928, b: 0.428065\n",
            "step: 550, loss: 0.084464, W: 0.300847, b: 0.449909\n",
            "step: 600, loss: 0.083602, W: 0.297947, b: 0.470466\n",
            "step: 650, loss: 0.082839, W: 0.295219, b: 0.489812\n",
            "step: 700, loss: 0.082163, W: 0.292651, b: 0.508018\n",
            "step: 750, loss: 0.081564, W: 0.290234, b: 0.525151\n",
            "step: 800, loss: 0.081034, W: 0.287960, b: 0.541275\n",
            "step: 850, loss: 0.080564, W: 0.285819, b: 0.556449\n",
            "step: 900, loss: 0.080149, W: 0.283805, b: 0.570729\n",
            "step: 950, loss: 0.079780, W: 0.281910, b: 0.584167\n",
            "step: 1000, loss: 0.079454, W: 0.280126, b: 0.596813\n"
          ]
        }
      ],
      "source": [
        "# Run training for the given number of steps.\n",
        "\n",
        "for step in range(1, epochs + 1):\n",
        "\n",
        "    # Run the optimization to update W and b values.\n",
        "\n",
        "    run_optimization()\n",
        "\n",
        "    if step % display_step == 0:\n",
        "\n",
        "        pred = linear_regression(X)\n",
        "\n",
        "        loss = mean_square(pred, Y)\n",
        "\n",
        "        print(\"step: %i, loss: %f, W: %f, b: %f\" % (step, loss, W.numpy(), b.numpy()))"
      ]
    },
    {
      "cell_type": "code",
      "execution_count": 8,
      "metadata": {
        "colab": {
          "base_uri": "https://localhost:8080/",
          "height": 265
        },
        "id": "ohtAlb5P5Umj",
        "outputId": "5da65ac7-2dcb-4263-d1e1-be33afd0eec3"
      },
      "outputs": [
        {
          "output_type": "display_data",
          "data": {
            "image/png": "[encoded data removed]",
            "text/plain": [
              "<Figure size 432x288 with 1 Axes>"
            ]
          },
          "metadata": {
            "needs_background": "light"
          }
        }
      ],
      "source": [
        "import matplotlib.pyplot as plt \n",
        "\n",
        "# Graphic display\n",
        "\n",
        "plt.plot(X, Y, 'ro', label=\"Original data\")\n",
        "plt.plot(X, np.array(W * X +b), label=\"Fitted line\")\n",
        "plt.legend()\n",
        "plt.show()"
      ]
    },
    {
      "cell_type": "code",
      "execution_count": null,
      "metadata": {
        "id": "aK7ql9U-5Umk"
      },
      "outputs": [],
      "source": [
        ""
      ]
    }
  ],
  "metadata": {
    "kernelspec": {
      "display_name": "Python 3",
      "language": "python",
      "name": "python3"
    },
    "language_info": {
      "codemirror_mode": {
        "name": "ipython",
        "version": 3
      },
      "file_extension": ".py",
      "mimetype": "text/x-python",
      "name": "python",
      "nbconvert_exporter": "python",
      "pygments_lexer": "ipython3",
      "version": "3.7.6"
    },
    "colab": {
      "name": "LinearRegression.ipynb",
      "provenance": [],
      "include_colab_link": true
    }
  },
  "nbformat": 4,
  "nbformat_minor": 0
}