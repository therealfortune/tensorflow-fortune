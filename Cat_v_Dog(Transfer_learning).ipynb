{
  "nbformat": 4,
  "nbformat_minor": 0,
  "metadata": {
    "colab": {
      "name": "Cat-v-Dog(Transfer learning).ipynb",
      "provenance": [],
      "collapsed_sections": [],
      "authorship_tag": "ABX9TyOv0dYiHCN7ZrAZ2WRiYP4z",
      "include_colab_link": true
    },
    "kernelspec": {
      "name": "python3",
      "display_name": "Python 3"
    },
    "language_info": {
      "name": "python"
    },
    "accelerator": "GPU"
  },
  "cells": [
    {
      "cell_type": "markdown",
      "metadata": {
        "id": "view-in-github",
        "colab_type": "text"
      },
      "source": [
        "<a href=\"https://colab.research.google.com/github/therealfortune/tensorflow-fortune/blob/master/Cat_v_Dog(Transfer_learning).ipynb\" target=\"_parent\"><img src=\"https://colab.research.google.com/assets/colab-badge.svg\" alt=\"Open In Colab\"/></a>"
      ]
    },
    {
      "cell_type": "code",
      "execution_count": 1,
      "metadata": {
        "id": "Bx-hyoLJkyo2"
      },
      "outputs": [],
      "source": [
        "import os\n",
        "from tensorflow.keras import layers\n",
        "from tensorflow.keras import Model"
      ]
    },
    {
      "cell_type": "code",
      "source": [
        "!wget --no-check-certificate \\\n",
        "    https://storage.googleapis.com/mledu-datasets/inception_v3_weights_tf_dim_ordering_tf_kernels_notop.h5 \\\n",
        "    -O inception_v3_weights_tf_dim_ordering_tf_kernels_notop.h5"
      ],
      "metadata": {
        "colab": {
          "base_uri": "https://localhost:8080/"
        },
        "id": "O_ueGuvFmI_H",
        "outputId": "7b90497f-9132-4831-9986-a84d1b5eb257"
      },
      "execution_count": 2,
      "outputs": [
        {
          "output_type": "stream",
          "name": "stdout",
          "text": [
            "--2021-12-20 17:32:37--  https://storage.googleapis.com/mledu-datasets/inception_v3_weights_tf_dim_ordering_tf_kernels_notop.h5\n",
            "Resolving storage.googleapis.com (storage.googleapis.com)... 108.177.121.128, 142.250.103.128, 108.177.120.128, ...\n",
            "Connecting to storage.googleapis.com (storage.googleapis.com)|108.177.121.128|:443... connected.\n",
            "HTTP request sent, awaiting response... 200 OK\n",
            "Length: 87910968 (84M) [application/x-hdf]\n",
            "Saving to: ‘inception_v3_weights_tf_dim_ordering_tf_kernels_notop.h5’\n",
            "\n",
            "inception_v3_weight 100%[===================>]  83.84M  83.6MB/s    in 1.0s    \n",
            "\n",
            "2021-12-20 17:32:38 (83.6 MB/s) - ‘inception_v3_weights_tf_dim_ordering_tf_kernels_notop.h5’ saved [87910968/87910968]\n",
            "\n"
          ]
        }
      ]
    },
    {
      "cell_type": "code",
      "source": [
        "from tensorflow.keras.applications.inception_v3 import InceptionV3\n",
        "\n",
        "local_weight_file = \"/content/inception_v3_weights_tf_dim_ordering_tf_kernels_notop.h5\"\n",
        "pre_trained_model = InceptionV3(\n",
        "    input_shape = (150,150,3),\n",
        "    include_top = False,\n",
        "    weights = None\n",
        ")\n",
        "\n",
        "pre_trained_model.load_weights(local_weight_file)\n",
        "\n",
        "for layer in pre_trained_model.layers:\n",
        "  layer.trainable = True\n",
        "\n",
        "# pre_trained_model.summary()\n",
        "\n",
        "last_layer = pre_trained_model.get_layer('mixed7')\n",
        "print('last layer output shape = ', last_layer.output_shape)\n",
        "last_output = last_layer.output"
      ],
      "metadata": {
        "colab": {
          "base_uri": "https://localhost:8080/"
        },
        "id": "aalOVj7EmN0k",
        "outputId": "531c815d-eb57-4e1e-8f7f-4c78d1a9f4b2"
      },
      "execution_count": 3,
      "outputs": [
        {
          "output_type": "stream",
          "name": "stdout",
          "text": [
            "last layer output shape =  (None, 7, 7, 768)\n"
          ]
        }
      ]
    },
    {
      "cell_type": "code",
      "source": [
        "from tensorflow.keras.optimizers import RMSprop\n",
        "\n",
        "x = layers.Flatten()(last_output)\n",
        "x = layers.Dense(1024, activation=\"relu\")(x)\n",
        "x = layers.Dropout(0.2)(x)\n",
        "x = layers.Dense(1, activation=\"sigmoid\")(x)\n",
        "\n",
        "model = Model(pre_trained_model.input, x)\n",
        "\n",
        "model.compile(\n",
        "    optimizer = RMSprop(learning_rate=0.001),\n",
        "    loss = 'binary_crossentropy',\n",
        "    metrics = ['accuracy']\n",
        ")"
      ],
      "metadata": {
        "id": "iZaq2bUAoVhK"
      },
      "execution_count": 4,
      "outputs": []
    },
    {
      "cell_type": "markdown",
      "source": [
        "LOADING OUR OWN DATASET"
      ],
      "metadata": {
        "id": "tXBk5EA8zKLh"
      }
    },
    {
      "cell_type": "code",
      "source": [
        "!gdown --id 1RL0T7Rg4XqQNRCkjfnLo4goOJQ7XZro9"
      ],
      "metadata": {
        "colab": {
          "base_uri": "https://localhost:8080/"
        },
        "id": "ReojYDIoybFo",
        "outputId": "59b96fdb-3739-439c-9e0b-4cf1cb688af0"
      },
      "execution_count": 5,
      "outputs": [
        {
          "output_type": "stream",
          "name": "stdout",
          "text": [
            "Downloading...\n",
            "From: https://drive.google.com/uc?id=1RL0T7Rg4XqQNRCkjfnLo4goOJQ7XZro9\n",
            "To: /content/cats_and_dogs_filtered.zip\n",
            "100% 68.6M/68.6M [00:00<00:00, 112MB/s] \n"
          ]
        }
      ]
    },
    {
      "cell_type": "code",
      "source": [
        "import os\n",
        "import zipfile\n",
        "\n",
        "zip_ref = zipfile.ZipFile(\"./cats_and_dogs_filtered.zip\", 'r')\n",
        "zip_ref.extractall(\"tmp/\")\n",
        "zip_ref.close()"
      ],
      "metadata": {
        "id": "KMBEwoNiyoTy"
      },
      "execution_count": 6,
      "outputs": []
    },
    {
      "cell_type": "code",
      "source": [
        "base_dir = \"tmp/cats_and_dogs_filtered\"\n",
        "\n",
        "train_dir = os.path.join(base_dir, 'train')\n",
        "validation_dir = os.path.join(base_dir, 'validation')\n",
        "\n",
        "train_cats_dir = os.path.join(train_dir,'cats' )\n",
        "train_dogs_dir = os.path.join(train_dir, 'dogs')\n",
        "validation_cats_dir = os.path.join(validation_dir, 'cats')\n",
        "validation_dogs_dir = os.path.join(validation_dir, 'dogs')\n",
        "\n",
        "train_cats_fname = os.listdir(train_cats_dir)\n",
        "train_dogs_fname = os.listdir(train_dogs_dir)"
      ],
      "metadata": {
        "id": "OJDBy8GCzVVT"
      },
      "execution_count": 7,
      "outputs": []
    },
    {
      "cell_type": "code",
      "source": [
        "import tensorflow as tf\n",
        "from tensorflow.keras.preprocessing.image import ImageDataGenerator\n",
        "\n",
        "train_datagen = ImageDataGenerator(\n",
        "    rescale = 1./255,\n",
        "    height_shift_range=0.2,\n",
        "    rotation_range=40,\n",
        "    width_shift_range=0.2,\n",
        "    shear_range=0.2,\n",
        "    zoom_range=0.2,\n",
        "    fill_mode='nearest',\n",
        "    horizontal_flip=True\n",
        ")\n",
        "\n",
        "train_generator = train_datagen.flow_from_directory(\n",
        "    train_dir,\n",
        "    batch_size=20,\n",
        "    target_size=(150,150),\n",
        "    class_mode='binary'\n",
        ")\n",
        "\n",
        "# Validation data should not be augumented\n",
        "validation_datagen = ImageDataGenerator(\n",
        "    rescale=1./255\n",
        ")\n",
        "\n",
        "validation_generator = validation_datagen.flow_from_directory(\n",
        "    validation_dir,\n",
        "    batch_size=20,\n",
        "    target_size=(150,150),\n",
        "    class_mode='binary'\n",
        ")"
      ],
      "metadata": {
        "colab": {
          "base_uri": "https://localhost:8080/"
        },
        "id": "ZPACDzP-0pPw",
        "outputId": "25d57b43-3699-492d-d873-28bf9c5312a8"
      },
      "execution_count": 10,
      "outputs": [
        {
          "output_type": "stream",
          "name": "stdout",
          "text": [
            "Found 2000 images belonging to 2 classes.\n",
            "Found 1000 images belonging to 2 classes.\n"
          ]
        }
      ]
    },
    {
      "cell_type": "code",
      "source": [
        "class Callback(tf.keras.callbacks.Callback):\n",
        "  def on_epoch_end(self, epoch, logs={}):\n",
        "    if(logs.get('accuracy')>0.96):\n",
        "      print('/Accuracy reached 96% , stopping training now')\n",
        "      self.model.stop_training=True\n",
        "callback = Callback()"
      ],
      "metadata": {
        "id": "igiDJC8b6sUU"
      },
      "execution_count": 11,
      "outputs": []
    },
    {
      "cell_type": "code",
      "source": [
        "history = model.fit(\n",
        "    train_generator,\n",
        "    validation_data= validation_generator,\n",
        "    steps_per_epoch = 100,\n",
        "    epochs = 100,\n",
        "    validation_steps = 50,\n",
        "    callbacks = [callback],\n",
        "    verbose=1\n",
        ")"
      ],
      "metadata": {
        "colab": {
          "base_uri": "https://localhost:8080/"
        },
        "id": "aHZooH5a2NTh",
        "outputId": "2bf0fa8f-fc58-495f-9b6a-92060c2fc697"
      },
      "execution_count": 12,
      "outputs": [
        {
          "output_type": "stream",
          "name": "stdout",
          "text": [
            "Epoch 1/100\n",
            "100/100 [==============================] - 40s 403ms/step - loss: 0.3168 - accuracy: 0.8780 - val_loss: 1.0007 - val_accuracy: 0.7810\n",
            "Epoch 2/100\n",
            "100/100 [==============================] - 39s 384ms/step - loss: 0.2907 - accuracy: 0.8860 - val_loss: 1.3546 - val_accuracy: 0.9130\n",
            "Epoch 3/100\n",
            "100/100 [==============================] - 29s 285ms/step - loss: 0.2908 - accuracy: 0.8925 - val_loss: 0.9465 - val_accuracy: 0.8380\n",
            "Epoch 4/100\n",
            "100/100 [==============================] - 29s 288ms/step - loss: 0.2668 - accuracy: 0.8985 - val_loss: 6.0316 - val_accuracy: 0.8030\n",
            "Epoch 5/100\n",
            "100/100 [==============================] - 30s 302ms/step - loss: 0.3216 - accuracy: 0.8850 - val_loss: 0.3709 - val_accuracy: 0.8940\n",
            "Epoch 6/100\n",
            "100/100 [==============================] - 29s 291ms/step - loss: 0.2475 - accuracy: 0.9050 - val_loss: 73.6965 - val_accuracy: 0.5980\n",
            "Epoch 7/100\n",
            "100/100 [==============================] - 29s 287ms/step - loss: 0.2714 - accuracy: 0.8990 - val_loss: 18.9875 - val_accuracy: 0.6240\n",
            "Epoch 8/100\n",
            "100/100 [==============================] - 30s 300ms/step - loss: 0.3228 - accuracy: 0.8980 - val_loss: 0.3395 - val_accuracy: 0.9310\n",
            "Epoch 9/100\n",
            "100/100 [==============================] - 30s 297ms/step - loss: 0.2465 - accuracy: 0.9105 - val_loss: 0.6317 - val_accuracy: 0.8280\n",
            "Epoch 10/100\n",
            "100/100 [==============================] - 29s 284ms/step - loss: 0.2343 - accuracy: 0.9165 - val_loss: 1.6329 - val_accuracy: 0.7600\n",
            "Epoch 11/100\n",
            "100/100 [==============================] - 29s 290ms/step - loss: 0.2565 - accuracy: 0.9065 - val_loss: 3.9651 - val_accuracy: 0.7810\n",
            "Epoch 12/100\n",
            "100/100 [==============================] - 29s 289ms/step - loss: 0.1996 - accuracy: 0.9210 - val_loss: 0.3029 - val_accuracy: 0.9120\n",
            "Epoch 13/100\n",
            "100/100 [==============================] - 28s 281ms/step - loss: 0.2295 - accuracy: 0.9150 - val_loss: 0.7809 - val_accuracy: 0.8730\n",
            "Epoch 14/100\n",
            "100/100 [==============================] - 28s 282ms/step - loss: 0.2157 - accuracy: 0.9205 - val_loss: 1.5099 - val_accuracy: 0.8950\n",
            "Epoch 15/100\n",
            "100/100 [==============================] - 28s 284ms/step - loss: 0.1952 - accuracy: 0.9235 - val_loss: 1.1842 - val_accuracy: 0.8860\n",
            "Epoch 16/100\n",
            "100/100 [==============================] - 29s 286ms/step - loss: 0.2026 - accuracy: 0.9165 - val_loss: 0.5157 - val_accuracy: 0.9130\n",
            "Epoch 17/100\n",
            "100/100 [==============================] - 28s 284ms/step - loss: 0.1990 - accuracy: 0.9225 - val_loss: 0.5536 - val_accuracy: 0.9030\n",
            "Epoch 18/100\n",
            "100/100 [==============================] - 29s 288ms/step - loss: 0.1878 - accuracy: 0.9275 - val_loss: 29.3745 - val_accuracy: 0.7200\n",
            "Epoch 19/100\n",
            "100/100 [==============================] - 28s 283ms/step - loss: 0.2102 - accuracy: 0.9245 - val_loss: 0.5228 - val_accuracy: 0.9110\n",
            "Epoch 20/100\n",
            "100/100 [==============================] - 28s 279ms/step - loss: 0.1970 - accuracy: 0.9290 - val_loss: 2.6597 - val_accuracy: 0.8590\n",
            "Epoch 21/100\n",
            "100/100 [==============================] - 28s 279ms/step - loss: 0.1543 - accuracy: 0.9355 - val_loss: 0.2704 - val_accuracy: 0.9150\n",
            "Epoch 22/100\n",
            "100/100 [==============================] - 28s 278ms/step - loss: 0.1877 - accuracy: 0.9365 - val_loss: 0.3163 - val_accuracy: 0.9130\n",
            "Epoch 23/100\n",
            "100/100 [==============================] - 28s 279ms/step - loss: 0.2382 - accuracy: 0.9260 - val_loss: 1.4234 - val_accuracy: 0.8810\n",
            "Epoch 24/100\n",
            "100/100 [==============================] - 28s 282ms/step - loss: 0.1625 - accuracy: 0.9375 - val_loss: 0.5330 - val_accuracy: 0.9130\n",
            "Epoch 25/100\n",
            "100/100 [==============================] - 29s 284ms/step - loss: 0.1808 - accuracy: 0.9380 - val_loss: 1.3120 - val_accuracy: 0.8790\n",
            "Epoch 26/100\n",
            "100/100 [==============================] - 29s 284ms/step - loss: 0.1850 - accuracy: 0.9420 - val_loss: 0.6554 - val_accuracy: 0.9180\n",
            "Epoch 27/100\n",
            "100/100 [==============================] - 29s 284ms/step - loss: 0.1453 - accuracy: 0.9515 - val_loss: 0.2496 - val_accuracy: 0.9360\n",
            "Epoch 28/100\n",
            "100/100 [==============================] - 28s 283ms/step - loss: 0.1851 - accuracy: 0.9355 - val_loss: 0.1788 - val_accuracy: 0.9250\n",
            "Epoch 29/100\n",
            "100/100 [==============================] - 28s 279ms/step - loss: 0.1941 - accuracy: 0.9355 - val_loss: 0.4562 - val_accuracy: 0.8870\n",
            "Epoch 30/100\n",
            "100/100 [==============================] - 28s 278ms/step - loss: 0.1421 - accuracy: 0.9485 - val_loss: 0.4753 - val_accuracy: 0.9320\n",
            "Epoch 31/100\n",
            "100/100 [==============================] - 28s 280ms/step - loss: 0.1447 - accuracy: 0.9440 - val_loss: 0.2970 - val_accuracy: 0.9410\n",
            "Epoch 32/100\n",
            "100/100 [==============================] - 28s 279ms/step - loss: 0.1528 - accuracy: 0.9490 - val_loss: 0.4467 - val_accuracy: 0.9220\n",
            "Epoch 33/100\n",
            "100/100 [==============================] - 28s 279ms/step - loss: 0.1412 - accuracy: 0.9460 - val_loss: 0.7499 - val_accuracy: 0.9030\n",
            "Epoch 34/100\n",
            "100/100 [==============================] - 28s 279ms/step - loss: 0.1904 - accuracy: 0.9435 - val_loss: 4.4738 - val_accuracy: 0.8840\n",
            "Epoch 35/100\n",
            "100/100 [==============================] - 28s 280ms/step - loss: 0.1544 - accuracy: 0.9510 - val_loss: 0.4031 - val_accuracy: 0.9370\n",
            "Epoch 36/100\n",
            "100/100 [==============================] - 28s 282ms/step - loss: 0.1589 - accuracy: 0.9430 - val_loss: 0.1602 - val_accuracy: 0.9450\n",
            "Epoch 37/100\n",
            "100/100 [==============================] - 28s 281ms/step - loss: 0.1613 - accuracy: 0.9475 - val_loss: 0.2579 - val_accuracy: 0.9160\n",
            "Epoch 38/100\n",
            "100/100 [==============================] - 29s 285ms/step - loss: 0.1293 - accuracy: 0.9550 - val_loss: 0.3911 - val_accuracy: 0.8570\n",
            "Epoch 39/100\n",
            "100/100 [==============================] - 28s 283ms/step - loss: 0.1543 - accuracy: 0.9485 - val_loss: 0.4264 - val_accuracy: 0.8850\n",
            "Epoch 40/100\n",
            "100/100 [==============================] - 29s 287ms/step - loss: 0.1423 - accuracy: 0.9510 - val_loss: 0.8359 - val_accuracy: 0.9370\n",
            "Epoch 41/100\n",
            "100/100 [==============================] - 29s 285ms/step - loss: 0.1492 - accuracy: 0.9505 - val_loss: 0.3834 - val_accuracy: 0.9400\n",
            "Epoch 42/100\n",
            "100/100 [==============================] - 28s 280ms/step - loss: 0.1340 - accuracy: 0.9600 - val_loss: 7.6821 - val_accuracy: 0.8870\n",
            "Epoch 43/100\n",
            "100/100 [==============================] - ETA: 0s - loss: 0.0968 - accuracy: 0.9635/Accuracy reached 96% , stopping training now\n",
            "100/100 [==============================] - 29s 285ms/step - loss: 0.0968 - accuracy: 0.9635 - val_loss: 10.2345 - val_accuracy: 0.8650\n"
          ]
        }
      ]
    },
    {
      "cell_type": "code",
      "source": [
        "import matplotlib.pyplot as plt\n",
        "\n",
        "acc = history.history['accuracy']\n",
        "val_acc = history.history['val_accuracy']\n",
        "lsss = history.history['loss']\n",
        "val_loss = history.history['val_loss']\n",
        "\n",
        "epochs = range(len(acc))\n",
        "\n",
        "plt.plot(epochs, acc, 'r', label= 'Training Accuracy')\n",
        "plt.plot(epochs, val_acc, 'b', label=\"Validation accuracy\")\n",
        "plt.title(\"Training and Validation accuracy\")\n",
        "plt.legend(loc=0)\n",
        "plt.figure()\n",
        "plt.show()"
      ],
      "metadata": {
        "colab": {
          "base_uri": "https://localhost:8080/",
          "height": 298
        },
        "id": "-EMiMmWA5Zue",
        "outputId": "1fdb32dc-5250-4610-8ec5-b1470b74a5b3"
      },
      "execution_count": 16,
      "outputs": [
        {
          "output_type": "display_data",
          "data": {
            "image/png": "[encoded data removed]",
            "text/plain": [
              "<Figure size 432x288 with 1 Axes>"
            ]
          },
          "metadata": {
            "needs_background": "light"
          }
        },
        {
          "output_type": "display_data",
          "data": {
            "text/plain": [
              "<Figure size 432x288 with 0 Axes>"
            ]
          },
          "metadata": {}
        }
      ]
    },
    {
      "cell_type": "code",
      "source": [
        ""
      ],
      "metadata": {
        "id": "ep9IlGy8ERwB"
      },
      "execution_count": 24,
      "outputs": []
    }
  ]
}