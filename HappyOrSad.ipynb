{
  "nbformat": 4,
  "nbformat_minor": 0,
  "metadata": {
    "colab": {
      "name": "HappyOrSad.ipynb",
      "provenance": [],
      "authorship_tag": "ABX9TyO51W2BdHYzLLm26MXFjKc/",
      "include_colab_link": true
    },
    "kernelspec": {
      "name": "python3",
      "display_name": "Python 3"
    },
    "language_info": {
      "name": "python"
    },
    "accelerator": "GPU"
  },
  "cells": [
    {
      "cell_type": "markdown",
      "metadata": {
        "id": "view-in-github",
        "colab_type": "text"
      },
      "source": [
        "<a href=\"https://colab.research.google.com/github/therealfortune/tensorflow-fortune/blob/master/HappyOrSad.ipynb\" target=\"_parent\"><img src=\"https://colab.research.google.com/assets/colab-badge.svg\" alt=\"Open In Colab\"/></a>"
      ]
    },
    {
      "cell_type": "markdown",
      "source": [
        "IMPORTING THE ZIP FILE"
      ],
      "metadata": {
        "id": "i_gs3MVxWFf_"
      }
    },
    {
      "cell_type": "code",
      "execution_count": 1,
      "metadata": {
        "id": "qST3N84SP-Zs",
        "outputId": "076abb87-9106-49dc-f97b-d9c4135f4964",
        "colab": {
          "base_uri": "https://localhost:8080/"
        }
      },
      "outputs": [
        {
          "output_type": "stream",
          "name": "stdout",
          "text": [
            "--2021-12-15 10:52:30--  https://storage.googleapis.com/laurencemoroney-blog.appspot.com/happy-or-sad.zip\n",
            "Resolving storage.googleapis.com (storage.googleapis.com)... 142.251.8.128, 74.125.203.128, 74.125.204.128, ...\n",
            "Connecting to storage.googleapis.com (storage.googleapis.com)|142.251.8.128|:443... connected.\n",
            "HTTP request sent, awaiting response... 200 OK\n",
            "Length: 2670333 (2.5M) [application/zip]\n",
            "Saving to: ‘/content/happy-or-sad.zip’\n",
            "\n",
            "\r          /content/   0%[                    ]       0  --.-KB/s               \r/content/happy-or-s 100%[===================>]   2.55M  --.-KB/s    in 0.02s   \n",
            "\n",
            "2021-12-15 10:52:30 (135 MB/s) - ‘/content/happy-or-sad.zip’ saved [2670333/2670333]\n",
            "\n"
          ]
        }
      ],
      "source": [
        "!wget --no-check-certificate \\\n",
        "    \"https://storage.googleapis.com/laurencemoroney-blog.appspot.com/happy-or-sad.zip\" \\\n",
        "    -O \"/content/happy-or-sad.zip\""
      ]
    },
    {
      "cell_type": "markdown",
      "source": [
        "EXTRACTING THE ZIP FILE"
      ],
      "metadata": {
        "id": "Yd2EsGVMWOk5"
      }
    },
    {
      "cell_type": "code",
      "source": [
        "from zipfile import ZipFile\n",
        "\n",
        "with ZipFile('/content/happy-or-sad.zip', 'r') as zipObj:\n",
        "  zipObj.extractall('/content/h-or-s')"
      ],
      "metadata": {
        "id": "OIvuE35tQFdT"
      },
      "execution_count": 2,
      "outputs": []
    },
    {
      "cell_type": "markdown",
      "source": [
        "IMPORTING TENSORFLOW AND OS LIBRARIES"
      ],
      "metadata": {
        "id": "Ke803kEDWSYe"
      }
    },
    {
      "cell_type": "code",
      "source": [
        "import tensorflow as tf \n",
        "import os"
      ],
      "metadata": {
        "id": "oEpjd5osRPxN"
      },
      "execution_count": 3,
      "outputs": []
    },
    {
      "cell_type": "markdown",
      "source": [
        "CREATING A CALLBACK FUNCTION TO PREVENT MODEL FROM OVERFITTING"
      ],
      "metadata": {
        "id": "NPvHojd6WZAx"
      }
    },
    {
      "cell_type": "code",
      "source": [
        "class MyCallback(tf.keras.callbacks.Callback):\n",
        "  def on_epoch_end(self, epoch, logs={}):\n",
        "    if(logs.get('acc') > 0.98):\n",
        "      print('\\n 98 percent accuracy reached so cancelling training now')\n",
        "      self.model.stop_training = True\n",
        "Callback = MyCallback()"
      ],
      "metadata": {
        "id": "WTTMlc2MRh4v"
      },
      "execution_count": 4,
      "outputs": []
    },
    {
      "cell_type": "markdown",
      "source": [
        "CREATING OUR MODEL"
      ],
      "metadata": {
        "id": "naAm2RdVWhcN"
      }
    },
    {
      "cell_type": "code",
      "source": [
        "model = tf.keras.models.Sequential([\n",
        "  tf.keras.layers.Conv2D(64, (3,3), activation=\"relu\", input_shape=(150,150,3)),\n",
        "  tf.keras.layers.MaxPooling2D(2,2),\n",
        "  tf.keras.layers.Conv2D(64, (3,3), activation=\"relu\"),\n",
        "  tf.keras.layers.MaxPooling2D(2,2),\n",
        "  tf.keras.layers.Conv2D(64, (3,3), activation=\"relu\"),\n",
        "  tf.keras.layers.MaxPooling2D(2,2),\n",
        "  tf.keras.layers.Flatten(),\n",
        "  tf.keras.layers.Dense(128, activation=\"relu\"),\n",
        "  tf.keras.layers.Dense(1, activation=\"sigmoid\")                                                           \n",
        "])\n",
        "model.summary()"
      ],
      "metadata": {
        "colab": {
          "base_uri": "https://localhost:8080/"
        },
        "id": "jUstPWLNTEf_",
        "outputId": "bf0dcde3-0492-4ec9-d041-e60339a66d31"
      },
      "execution_count": 5,
      "outputs": [
        {
          "output_type": "stream",
          "name": "stdout",
          "text": [
            "Model: \"sequential\"\n",
            "_________________________________________________________________\n",
            " Layer (type)                Output Shape              Param #   \n",
            "=================================================================\n",
            " conv2d (Conv2D)             (None, 148, 148, 64)      1792      \n",
            "                                                                 \n",
            " max_pooling2d (MaxPooling2D  (None, 74, 74, 64)       0         \n",
            " )                                                               \n",
            "                                                                 \n",
            " conv2d_1 (Conv2D)           (None, 72, 72, 64)        36928     \n",
            "                                                                 \n",
            " max_pooling2d_1 (MaxPooling  (None, 36, 36, 64)       0         \n",
            " 2D)                                                             \n",
            "                                                                 \n",
            " conv2d_2 (Conv2D)           (None, 34, 34, 64)        36928     \n",
            "                                                                 \n",
            " max_pooling2d_2 (MaxPooling  (None, 17, 17, 64)       0         \n",
            " 2D)                                                             \n",
            "                                                                 \n",
            " flatten (Flatten)           (None, 18496)             0         \n",
            "                                                                 \n",
            " dense (Dense)               (None, 128)               2367616   \n",
            "                                                                 \n",
            " dense_1 (Dense)             (None, 1)                 129       \n",
            "                                                                 \n",
            "=================================================================\n",
            "Total params: 2,443,393\n",
            "Trainable params: 2,443,393\n",
            "Non-trainable params: 0\n",
            "_________________________________________________________________\n"
          ]
        }
      ]
    },
    {
      "cell_type": "markdown",
      "source": [
        "COMPILING OUR MODEL"
      ],
      "metadata": {
        "id": "gRksBsMdWkCm"
      }
    },
    {
      "cell_type": "code",
      "source": [
        "from tensorflow.keras.optimizers import RMSprop\n",
        "opt = tf.keras.optimizers.RMSprop(learning_rate=0.001)\n",
        "model.compile(optimizer=opt, loss=\"binary_crossentropy\", metrics=['acc'])"
      ],
      "metadata": {
        "id": "deG_SP8jUvCG"
      },
      "execution_count": 6,
      "outputs": []
    },
    {
      "cell_type": "markdown",
      "source": [
        "RESCALING OUR MODEL"
      ],
      "metadata": {
        "id": "347RezU5Wpfo"
      }
    },
    {
      "cell_type": "code",
      "source": [
        "from keras.preprocessing.image import ImageDataGenerator\n",
        "\n",
        "train_detagan = ImageDataGenerator(rescale=1./255)\n",
        "train_generator = train_detagan.flow_from_directory(\n",
        "    '/content/h-or-s/',\n",
        "    target_size=(150,150),\n",
        "    color_mode='rgb',\n",
        "    class_mode='binary',\n",
        "    batch_size=80\n",
        ")"
      ],
      "metadata": {
        "colab": {
          "base_uri": "https://localhost:8080/"
        },
        "id": "A7AWJ3sVT990",
        "outputId": "3f933895-4764-48cd-e1a3-d7086325790b"
      },
      "execution_count": 7,
      "outputs": [
        {
          "output_type": "stream",
          "name": "stdout",
          "text": [
            "Found 80 images belonging to 2 classes.\n"
          ]
        }
      ]
    },
    {
      "cell_type": "markdown",
      "source": [
        "TRAINING THE MODEL"
      ],
      "metadata": {
        "id": "o3yT0CDIXgfB"
      }
    },
    {
      "cell_type": "code",
      "source": [
        "history = model.fit_generator(\n",
        "    train_generator,\n",
        "    steps_per_epoch = 1,\n",
        "    epochs=80,\n",
        "    verbose=1,\n",
        "    initial_epoch=2,\n",
        "    callbacks=[Callback])"
      ],
      "metadata": {
        "colab": {
          "base_uri": "https://localhost:8080/"
        },
        "id": "Ak2ZwNOdUkR3",
        "outputId": "aab4d4fb-0150-4fb2-8387-b10593484d27"
      },
      "execution_count": 8,
      "outputs": [
        {
          "output_type": "stream",
          "name": "stderr",
          "text": [
            "/usr/local/lib/python3.7/dist-packages/ipykernel_launcher.py:7: UserWarning: `Model.fit_generator` is deprecated and will be removed in a future version. Please use `Model.fit`, which supports generators.\n",
            "  import sys\n"
          ]
        },
        {
          "output_type": "stream",
          "name": "stdout",
          "text": [
            "Epoch 3/80\n",
            "1/1 [==============================] - 14s 14s/step - loss: 0.7064 - acc: 0.5000\n",
            "Epoch 4/80\n",
            "1/1 [==============================] - 0s 273ms/step - loss: 3.2721 - acc: 0.5000\n",
            "Epoch 5/80\n",
            "1/1 [==============================] - 0s 270ms/step - loss: 0.7578 - acc: 0.5000\n",
            "Epoch 6/80\n",
            "1/1 [==============================] - 0s 263ms/step - loss: 0.6936 - acc: 0.5000\n",
            "Epoch 7/80\n",
            "1/1 [==============================] - 0s 262ms/step - loss: 0.6834 - acc: 0.7875\n",
            "Epoch 8/80\n",
            "1/1 [==============================] - 0s 258ms/step - loss: 0.6640 - acc: 0.8125\n",
            "Epoch 9/80\n",
            "1/1 [==============================] - 0s 260ms/step - loss: 0.6247 - acc: 0.6125\n",
            "Epoch 10/80\n",
            "1/1 [==============================] - 0s 263ms/step - loss: 0.5997 - acc: 0.7875\n",
            "Epoch 11/80\n",
            "1/1 [==============================] - 0s 259ms/step - loss: 0.7802 - acc: 0.5000\n",
            "Epoch 12/80\n",
            "1/1 [==============================] - 0s 267ms/step - loss: 0.6337 - acc: 0.5000\n",
            "Epoch 13/80\n",
            "1/1 [==============================] - 0s 266ms/step - loss: 0.5421 - acc: 0.7125\n",
            "Epoch 14/80\n",
            "1/1 [==============================] - 0s 260ms/step - loss: 0.4502 - acc: 0.7500\n",
            "Epoch 15/80\n",
            "1/1 [==============================] - 0s 260ms/step - loss: 0.3350 - acc: 0.9375\n",
            "Epoch 16/80\n",
            "1/1 [==============================] - 0s 271ms/step - loss: 0.2778 - acc: 0.9250\n",
            "Epoch 17/80\n",
            "1/1 [==============================] - 0s 263ms/step - loss: 1.1175 - acc: 0.5000\n",
            "Epoch 18/80\n",
            "1/1 [==============================] - 0s 266ms/step - loss: 0.5681 - acc: 0.6375\n",
            "Epoch 19/80\n",
            "1/1 [==============================] - 0s 265ms/step - loss: 0.3765 - acc: 0.9125\n",
            "Epoch 20/80\n",
            "1/1 [==============================] - 0s 263ms/step - loss: 0.2689 - acc: 0.9500\n",
            "Epoch 21/80\n",
            "1/1 [==============================] - 0s 254ms/step - loss: 0.2159 - acc: 0.9250\n",
            "Epoch 22/80\n",
            "1/1 [==============================] - 0s 261ms/step - loss: 0.1866 - acc: 0.9500\n",
            "Epoch 23/80\n",
            "1/1 [==============================] - 0s 256ms/step - loss: 0.1695 - acc: 0.9375\n",
            "Epoch 24/80\n",
            "1/1 [==============================] - 0s 252ms/step - loss: 0.2269 - acc: 0.9125\n",
            "Epoch 25/80\n",
            "1/1 [==============================] - 0s 265ms/step - loss: 0.3373 - acc: 0.8875\n",
            "Epoch 26/80\n",
            "1/1 [==============================] - ETA: 0s - loss: 0.1917 - acc: 1.0000\n",
            " 98 percent accuracy reached so cancelling training now\n",
            "1/1 [==============================] - 0s 266ms/step - loss: 0.1917 - acc: 1.0000\n"
          ]
        }
      ]
    },
    {
      "cell_type": "code",
      "source": [
        ""
      ],
      "metadata": {
        "id": "U4XnHxwpYOPL"
      },
      "execution_count": 9,
      "outputs": []
    },
    {
      "cell_type": "code",
      "source": [
        ""
      ],
      "metadata": {
        "id": "xgBfHnHccYFl"
      },
      "execution_count": 9,
      "outputs": []
    }
  ]
}