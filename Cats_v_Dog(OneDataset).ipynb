{
  "cells": [
    {
      "cell_type": "markdown",
      "metadata": {
        "id": "view-in-github",
        "colab_type": "text"
      },
      "source": [
        "<a href=\"https://colab.research.google.com/github/therealfortune/tensorflow-fortune/blob/master/Cats_v_Dog(OneDataset).ipynb\" target=\"_parent\"><img src=\"https://colab.research.google.com/assets/colab-badge.svg\" alt=\"Open In Colab\"/></a>"
      ]
    },
    {
      "cell_type": "code",
      "execution_count": null,
      "metadata": {
        "colab": {
          "base_uri": "https://localhost:8080/"
        },
        "id": "KMojs-pq-O0O",
        "outputId": "d8cdf11a-35e7-477f-f94d-e476da8dee20"
      },
      "outputs": [
        {
          "name": "stdout",
          "output_type": "stream",
          "text": [
            "--2021-12-17 22:15:40--  https://storage.googleapis.com/mledu-datasets/cats_and_dogs_filtered.zip\n",
            "Resolving storage.googleapis.com (storage.googleapis.com)... 209.85.145.128, 209.85.147.128, 142.250.125.128, ...\n",
            "Connecting to storage.googleapis.com (storage.googleapis.com)|209.85.145.128|:443... connected.\n",
            "HTTP request sent, awaiting response... 200 OK\n",
            "Length: 68606236 (65M) [application/zip]\n",
            "Saving to: ‘cats_and_dogs_filtered.zip’\n",
            "\n",
            "cats_and_dogs_filte 100%[===================>]  65.43M  85.6MB/s    in 0.8s    \n",
            "\n",
            "2021-12-17 22:15:41 (85.6 MB/s) - ‘cats_and_dogs_filtered.zip’ saved [68606236/68606236]\n",
            "\n"
          ]
        }
      ],
      "source": [
        "!wget --no-check-certificate https://storage.googleapis.com/mledu-datasets/cats_and_dogs_filtered.zip"
      ]
    },
    {
      "cell_type": "code",
      "execution_count": null,
      "metadata": {
        "id": "lP0sW6Gz-jCO"
      },
      "outputs": [],
      "source": [
        "import os\n",
        "import zipfile\n",
        "\n",
        "local_zip = \"./cats_and_dogs_filtered.zip\"\n",
        "zip_ref = zipfile.ZipFile(local_zip, 'r')\n",
        "zip_ref.extractall()\n",
        "\n",
        "local_zip = \"./cats-and-dogs_zip.zip\"\n",
        "zip_ref = zipfile.ZipFile(local_zip, 'r')\n",
        "zip_ref.extractall(\"/content\")\n",
        "\n",
        "zip_ref.close()"
      ]
    },
    {
      "cell_type": "code",
      "execution_count": null,
      "metadata": {
        "id": "h-joHieI-nCh"
      },
      "outputs": [],
      "source": [
        "import os\n",
        "import shutil\n",
        "import random\n",
        "import tensorflow as tf\n",
        "from tensorflow.keras.optimizers import RMSprop\n",
        "from tensorflow.keras.preprocessing.image import ImageDataGenerator\n",
        "from shutil import copyfile\n",
        "from os import getcwd"
      ]
    },
    {
      "cell_type": "code",
      "execution_count": null,
      "metadata": {
        "id": "5N3vuwMjFOL0"
      },
      "outputs": [],
      "source": [
        "try:\n",
        "  os.mkdir(\"cats-v-dogs\")\n",
        "  os.mkdir(\"cats-v-dogs/training\")\n",
        "  os.mkdir('cats-v-dogs/testing')\n",
        "  os.mkdir(\"cats-v-dogs/training/Dog\")\n",
        "  os.mkdir(\"cats-v-dogs/training/Cat\")\n",
        "  os.mkdir(\"cats-v-dogs/testing/Dog\")\n",
        "  os.mkdir(\"cats-v-dogs/testing/Cat\")\n",
        "except:\n",
        "  pass"
      ]
    },
    {
      "cell_type": "code",
      "execution_count": null,
      "metadata": {
        "colab": {
          "base_uri": "https://localhost:8080/"
        },
        "id": "jWyeV2nKIP99",
        "outputId": "92dfc2fb-dbfb-4df4-b9fd-569a4f3e0655"
      },
      "outputs": [
        {
          "name": "stdout",
          "output_type": "stream",
          "text": [
            "1000\n",
            "1000\n"
          ]
        }
      ],
      "source": [
        "print(len(os.listdir(\"cats-and-dogs/PetImages/cats\")))\n",
        "print(len(os.listdir(\"cats-and-dogs/PetImages/dogs\")))"
      ]
    },
    {
      "cell_type": "markdown",
      "metadata": {
        "id": "upxMkOoaLUVW"
      },
      "source": [
        "SPLITTING THE DATA INTO TRAINING AND TEST SET"
      ]
    },
    {
      "cell_type": "code",
      "execution_count": null,
      "metadata": {
        "id": "_qNL60GxIoS6"
      },
      "outputs": [],
      "source": [
        "# Function that splits Image Data into training and test set\n",
        "def split_data(SOURCE, TRAINING, TESTING, SPLIT_SIZE):\n",
        "  images = os.listdir(SOURCE)\n",
        "  imgNo = len(images)\n",
        "\n",
        "  trainingNo = int(SPLIT_SIZE * imgNo)\n",
        "  testingNo = imgNo - trainingNo\n",
        "\n",
        "  allImages = random.sample(images, imgNo)\n",
        "\n",
        "  trainingImgs = allImages[:trainingNo]\n",
        "  testingImgs = allImages[trainingNo:]\n",
        "\n",
        "  for f in trainingImgs:\n",
        "    if (len(f)>0):\n",
        "      copyfile(SOURCE+f, TRAINING+f)\n",
        "      \n",
        "  for n in testingImgs:\n",
        "    if (len(n)>0):\n",
        "      copyfile(SOURCE+n, TESTING+n)\n",
        "\n",
        "CAT_SOURCE_DIR = \"cats-and-dogs/PetImages/cats/\"\n",
        "CAT_TRAINING_DIR = \"cats-v-dogs/training/Cat/\"\n",
        "CAT_TESTING_DIR = \"cats-v-dogs/testing/Cat/\"\n",
        "DOG_SOURCE_DIR = \"cats-and-dogs/PetImages/dogs/\"\n",
        "DOG_TRAINING_DIR = \"cats-v-dogs/training/Dog/\"\n",
        "DOG_TESTING_DIR = \"cats-v-dogs/testing/Dog/\"\n",
        "\n",
        "# Splitting of data\n",
        "split_size = 0.9\n",
        "split_data(CAT_SOURCE_DIR, CAT_TRAINING_DIR, CAT_TESTING_DIR, split_size)\n",
        "split_data(DOG_SOURCE_DIR, DOG_TRAINING_DIR, DOG_TESTING_DIR, split_size)"
      ]
    },
    {
      "cell_type": "code",
      "execution_count": null,
      "metadata": {
        "colab": {
          "base_uri": "https://localhost:8080/"
        },
        "id": "zkbcRIFbQWRd",
        "outputId": "4c26fceb-85c0-4714-a6a0-f3bd4312b279"
      },
      "outputs": [
        {
          "name": "stdout",
          "output_type": "stream",
          "text": [
            "900\n"
          ]
        }
      ],
      "source": [
        "print(len(os.listdir(\"cats-v-dogs/training/Dog/\")))"
      ]
    },
    {
      "cell_type": "markdown",
      "metadata": {
        "id": "Gmk_qR_oVsvv"
      },
      "source": [
        "TRAINING THE MODEL"
      ]
    },
    {
      "cell_type": "code",
      "execution_count": null,
      "metadata": {
        "id": "zJsFaP58RSFh"
      },
      "outputs": [],
      "source": [
        "model = tf.keras.models.Sequential([\n",
        "  tf.keras.layers.Conv2D(64, (3,3), activation=\"relu\", input_shape=(300,300,3)),\n",
        "  tf.keras.layers.MaxPooling2D(2,2),\n",
        "  tf.keras.layers.Conv2D(64, (3,3), activation=\"relu\"),\n",
        "  tf.keras.layers.MaxPooling2D(2,2),\n",
        "  tf.keras.layers.Conv2D(64, (3,3), activation=\"relu\"),\n",
        "  tf.keras.layers.MaxPooling2D(2,2),\n",
        "  tf.keras.layers.Conv2D(64, (3,3), activation=\"relu\"),\n",
        "  tf.keras.layers.MaxPooling2D(2,2),\n",
        "  tf.keras.layers.Flatten(),\n",
        "  tf.keras.layers.Dense(512, activation=\"relu\"),\n",
        "  tf.keras.layers.Dense(1, activation=\"sigmoid\")\n",
        "])"
      ]
    },
    {
      "cell_type": "markdown",
      "metadata": {
        "id": "7meTEC2oWuA9"
      },
      "source": [
        "SUMMARY OF THE MODEL"
      ]
    },
    {
      "cell_type": "code",
      "execution_count": null,
      "metadata": {
        "colab": {
          "base_uri": "https://localhost:8080/"
        },
        "id": "J_FKAhc5WC1U",
        "outputId": "c91df8b7-41e8-42dd-f1e9-5a96ffab5907"
      },
      "outputs": [
        {
          "output_type": "stream",
          "name": "stdout",
          "text": [
            "Model: \"sequential_1\"\n",
            "_________________________________________________________________\n",
            " Layer (type)                Output Shape              Param #   \n",
            "=================================================================\n",
            " conv2d_3 (Conv2D)           (None, 298, 298, 64)      1792      \n",
            "                                                                 \n",
            " max_pooling2d_3 (MaxPooling  (None, 149, 149, 64)     0         \n",
            " 2D)                                                             \n",
            "                                                                 \n",
            " conv2d_4 (Conv2D)           (None, 147, 147, 64)      36928     \n",
            "                                                                 \n",
            " max_pooling2d_4 (MaxPooling  (None, 73, 73, 64)       0         \n",
            " 2D)                                                             \n",
            "                                                                 \n",
            " conv2d_5 (Conv2D)           (None, 71, 71, 64)        36928     \n",
            "                                                                 \n",
            " max_pooling2d_5 (MaxPooling  (None, 35, 35, 64)       0         \n",
            " 2D)                                                             \n",
            "                                                                 \n",
            " conv2d_6 (Conv2D)           (None, 33, 33, 64)        36928     \n",
            "                                                                 \n",
            " max_pooling2d_6 (MaxPooling  (None, 16, 16, 64)       0         \n",
            " 2D)                                                             \n",
            "                                                                 \n",
            " flatten_1 (Flatten)         (None, 16384)             0         \n",
            "                                                                 \n",
            " dense_2 (Dense)             (None, 512)               8389120   \n",
            "                                                                 \n",
            " dense_3 (Dense)             (None, 1)                 513       \n",
            "                                                                 \n",
            "=================================================================\n",
            "Total params: 8,502,209\n",
            "Trainable params: 8,502,209\n",
            "Non-trainable params: 0\n",
            "_________________________________________________________________\n"
          ]
        }
      ],
      "source": [
        "model.summary()"
      ]
    },
    {
      "cell_type": "markdown",
      "metadata": {
        "id": "pCX40undW1sN"
      },
      "source": [
        "COMPILING THE MODEL"
      ]
    },
    {
      "cell_type": "code",
      "execution_count": null,
      "metadata": {
        "id": "e7bPynfUWwqk"
      },
      "outputs": [],
      "source": [
        "model.compile(optimizer=RMSprop(learning_rate=0.001), loss=\"binary_crossentropy\", metrics=['acc'])"
      ]
    },
    {
      "cell_type": "code",
      "execution_count": null,
      "metadata": {
        "colab": {
          "base_uri": "https://localhost:8080/"
        },
        "id": "7uuLHu8QY_QI",
        "outputId": "d98e0f8a-e94a-457d-8a41-a943b3a14c2b"
      },
      "outputs": [
        {
          "output_type": "stream",
          "name": "stdout",
          "text": [
            "Found 1800 images belonging to 2 classes.\n",
            "Found 200 images belonging to 2 classes.\n"
          ]
        }
      ],
      "source": [
        "TRAINING_DIR = \"cats-v-dogs/training\"\n",
        "train_detagen = ImageDataGenerator(\n",
        "    rotation_range=0,\n",
        "    width_shift_range=0.2,\n",
        "    height_shift_range=0.2,\n",
        "    shear_range=0.2,\n",
        "    zoom_range = 0.2,\n",
        "    fill_mode='nearest',\n",
        "    rescale=1./255\n",
        ")\n",
        "\n",
        "train_generator = train_detagen.flow_from_directory(\n",
        "    TRAINING_DIR,\n",
        "    batch_size=10,\n",
        "    target_size=(300,300),\n",
        "    class_mode='binary',\n",
        ")\n",
        "\n",
        "VALIDATION_DIR = \"cats-v-dogs/testing\"\n",
        "\n",
        "validation_detagen = ImageDataGenerator(\n",
        "    rotation_range = 0,\n",
        "    width_shift_range=0.2,\n",
        "    height_shift_range=0.2,\n",
        "    shear_range=0.2,\n",
        "    zoom_range=0.2,\n",
        "    fill_mode='nearest',\n",
        "    rescale=1./255\n",
        ")\n",
        "\n",
        "validation_generator = validation_detagen.flow_from_directory(\n",
        "    VALIDATION_DIR,\n",
        "    batch_size=10,\n",
        "    target_size=(300,300),\n",
        "    class_mode='binary'\n",
        ")"
      ]
    },
    {
      "cell_type": "code",
      "execution_count": null,
      "metadata": {
        "colab": {
          "base_uri": "https://localhost:8080/"
        },
        "id": "PG56zmekbVo5",
        "outputId": "1dc67067-f554-4ee3-9eca-6b8af816a9a8"
      },
      "outputs": [
        {
          "output_type": "stream",
          "name": "stderr",
          "text": [
            "/usr/local/lib/python3.7/dist-packages/ipykernel_launcher.py:5: UserWarning: `Model.fit_generator` is deprecated and will be removed in a future version. Please use `Model.fit`, which supports generators.\n",
            "  \"\"\"\n"
          ]
        },
        {
          "output_type": "stream",
          "name": "stdout",
          "text": [
            "Epoch 1/25\n",
            "180/180 [==============================] - 55s 295ms/step - loss: 0.7740 - acc: 0.4978 - val_loss: 0.6902 - val_acc: 0.5550\n",
            "Epoch 2/25\n",
            "180/180 [==============================] - 53s 294ms/step - loss: 0.6934 - acc: 0.5328 - val_loss: 0.6730 - val_acc: 0.5600\n",
            "Epoch 3/25\n",
            "180/180 [==============================] - 53s 295ms/step - loss: 0.7040 - acc: 0.5817 - val_loss: 0.6444 - val_acc: 0.6200\n",
            "Epoch 4/25\n",
            "180/180 [==============================] - 53s 294ms/step - loss: 0.6735 - acc: 0.6072 - val_loss: 0.6134 - val_acc: 0.6850\n",
            "Epoch 5/25\n",
            "180/180 [==============================] - 53s 295ms/step - loss: 0.6604 - acc: 0.6294 - val_loss: 0.5930 - val_acc: 0.7000\n",
            "Epoch 6/25\n",
            "180/180 [==============================] - 53s 293ms/step - loss: 0.6474 - acc: 0.6450 - val_loss: 0.6661 - val_acc: 0.6150\n",
            "Epoch 7/25\n",
            "180/180 [==============================] - 53s 295ms/step - loss: 0.6651 - acc: 0.6511 - val_loss: 0.6406 - val_acc: 0.6150\n",
            "Epoch 8/25\n",
            "180/180 [==============================] - 53s 292ms/step - loss: 0.6438 - acc: 0.6606 - val_loss: 0.5740 - val_acc: 0.7350\n",
            "Epoch 9/25\n",
            "180/180 [==============================] - 53s 295ms/step - loss: 0.6235 - acc: 0.6667 - val_loss: 0.6698 - val_acc: 0.6250\n",
            "Epoch 10/25\n",
            "180/180 [==============================] - 53s 292ms/step - loss: 0.6204 - acc: 0.6661 - val_loss: 0.6087 - val_acc: 0.6500\n",
            "Epoch 11/25\n",
            "180/180 [==============================] - 53s 292ms/step - loss: 0.6176 - acc: 0.6833 - val_loss: 0.9934 - val_acc: 0.5900\n",
            "Epoch 12/25\n",
            "180/180 [==============================] - 53s 293ms/step - loss: 0.6128 - acc: 0.6872 - val_loss: 0.5536 - val_acc: 0.7300\n",
            "Epoch 13/25\n",
            "180/180 [==============================] - 53s 293ms/step - loss: 0.5856 - acc: 0.7033 - val_loss: 0.5932 - val_acc: 0.6400\n",
            "Epoch 14/25\n",
            "180/180 [==============================] - 53s 294ms/step - loss: 0.5878 - acc: 0.6956 - val_loss: 0.5182 - val_acc: 0.7850\n",
            "Epoch 15/25\n",
            "180/180 [==============================] - 53s 295ms/step - loss: 0.6072 - acc: 0.7072 - val_loss: 0.6006 - val_acc: 0.7050\n",
            "Epoch 16/25\n",
            "180/180 [==============================] - 53s 295ms/step - loss: 0.5642 - acc: 0.7078 - val_loss: 0.5746 - val_acc: 0.6800\n",
            "Epoch 17/25\n",
            "180/180 [==============================] - 53s 295ms/step - loss: 0.5669 - acc: 0.7278 - val_loss: 0.5551 - val_acc: 0.6750\n",
            "Epoch 18/25\n",
            "180/180 [==============================] - 53s 294ms/step - loss: 0.5515 - acc: 0.7239 - val_loss: 0.5339 - val_acc: 0.7250\n",
            "Epoch 19/25\n",
            "180/180 [==============================] - 53s 293ms/step - loss: 0.5749 - acc: 0.7256 - val_loss: 0.5504 - val_acc: 0.7000\n",
            "Epoch 20/25\n",
            "180/180 [==============================] - 53s 295ms/step - loss: 0.5554 - acc: 0.7161 - val_loss: 0.6157 - val_acc: 0.6450\n",
            "Epoch 21/25\n",
            "180/180 [==============================] - 52s 290ms/step - loss: 0.5561 - acc: 0.7233 - val_loss: 0.4887 - val_acc: 0.7850\n",
            "Epoch 22/25\n",
            "180/180 [==============================] - 52s 289ms/step - loss: 0.5317 - acc: 0.7439 - val_loss: 0.5682 - val_acc: 0.7000\n",
            "Epoch 23/25\n",
            "180/180 [==============================] - 52s 290ms/step - loss: 0.5281 - acc: 0.7450 - val_loss: 0.6339 - val_acc: 0.7050\n",
            "Epoch 24/25\n",
            "180/180 [==============================] - 52s 289ms/step - loss: 0.5246 - acc: 0.7428 - val_loss: 0.6049 - val_acc: 0.7400\n",
            "Epoch 25/25\n",
            "180/180 [==============================] - 52s 289ms/step - loss: 0.5257 - acc: 0.7572 - val_loss: 0.4891 - val_acc: 0.7900\n"
          ]
        }
      ],
      "source": [
        "history = model.fit_generator(\n",
        "    train_generator,\n",
        "    epochs=25,\n",
        "    verbose=1,\n",
        "    validation_data=validation_generator\n",
        ")"
      ]
    },
    {
      "cell_type": "code",
      "execution_count": null,
      "metadata": {
        "id": "b0jKRLo5cNla",
        "colab": {
          "base_uri": "https://localhost:8080/",
          "height": 563
        },
        "outputId": "983c25e2-6dfb-4ccc-c466-a4eaa03f0e23"
      },
      "outputs": [
        {
          "output_type": "execute_result",
          "data": {
            "text/plain": [
              "Text(0.5, 1.0, 'Training and validation loss')"
            ]
          },
          "metadata": {},
          "execution_count": 25
        },
        {
          "output_type": "display_data",
          "data": {
            "image/png": "[encoded data removed]",
            "text/plain": [
              "<Figure size 432x288 with 1 Axes>"
            ]
          },
          "metadata": {
            "needs_background": "light"
          }
        },
        {
          "output_type": "display_data",
          "data": {
            "image/png": "[encoded data removed]",
            "text/plain": [
              "<Figure size 432x288 with 1 Axes>"
            ]
          },
          "metadata": {
            "needs_background": "light"
          }
        }
      ],
      "source": [
        "%matplotlib inline\n",
        "\n",
        "import matplotlib.image  as mpimg\n",
        "import matplotlib.pyplot as plt\n",
        "\n",
        "# Retrieve a list of list results on training and test data\n",
        "# sets for each training epoch\n",
        "acc=history.history['acc']\n",
        "val_acc=history.history['val_acc']\n",
        "loss=history.history['loss']\n",
        "val_loss=history.history['val_loss']\n",
        "\n",
        "epochs=range(len(acc)) # Get number of epochs\n",
        "# Plot training and validation accuracy per epoch\n",
        "plt.plot(epochs, acc, 'r', \"Training Accuracy\")\n",
        "plt.plot(epochs, val_acc, 'b', \"Validation Accuracy\")\n",
        "plt.title('Training and validation accuracy')\n",
        "plt.figure()\n",
        "\n",
        "# Plot training and validation loss per epoch\n",
        "plt.plot(epochs, loss, 'r', \"Training Loss\")\n",
        "plt.plot(epochs, val_loss, 'b', \"Validation Loss\")\n",
        "\n",
        "\n",
        "plt.title('Training and validation loss')\n",
        "\n",
        "# Desired output. Charts with training and validation metrics. No crash :)\n",
        "\n",
        "# Text(0.5, 1.0, 'Training and validation loss')"
      ]
    },
    {
      "cell_type": "code",
      "source": [
        ""
      ],
      "metadata": {
        "id": "ZTs4adNBkbT8"
      },
      "execution_count": null,
      "outputs": []
    }
  ],
  "metadata": {
    "accelerator": "GPU",
    "colab": {
      "name": "Cats-v-Dog(OneDataset).ipynb",
      "provenance": [],
      "collapsed_sections": [],
      "authorship_tag": "ABX9TyNFVMTs9+EcpJUvYaQVE3fW",
      "include_colab_link": true
    },
    "kernelspec": {
      "display_name": "Python 3",
      "name": "python3"
    },
    "language_info": {
      "name": "python"
    }
  },
  "nbformat": 4,
  "nbformat_minor": 0
}